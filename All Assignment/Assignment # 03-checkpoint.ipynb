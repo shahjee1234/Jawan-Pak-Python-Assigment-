{
 "cells": [
  {
   "cell_type": "code",
   "execution_count": 1,
   "id": "93136524",
   "metadata": {},
   "outputs": [
    {
     "name": "stdout",
     "output_type": "stream",
     "text": [
      "Twinkle, twinkle, little star,\n",
      "\tHow I wonder what you are! \n",
      "\t\tUp above the world so high, \n",
      "\t\tLike a diamond in the sky. \n",
      "Twinkle, twinkle, little star, \n",
      "\tHow I wonder what you are!\n"
     ]
    }
   ],
   "source": [
    "# ASSIGNMENT # 03\n",
    "\n",
    "print(\"Twinkle, twinkle, little star,\\n\\tHow I wonder what you are! \\n\\t\\tUp above the world so high, \\n\\t\\tLike a diamond in the sky. \\nTwinkle, twinkle, little star, \\n\\tHow I wonder what you are!\")"
   ]
  },
  {
   "cell_type": "code",
   "execution_count": 2,
   "id": "e75ce2e3",
   "metadata": {},
   "outputs": [
    {
     "name": "stdout",
     "output_type": "stream",
     "text": [
      "Python version\n",
      "3.8.8 (default, Apr 13 2021, 15:08:03) [MSC v.1916 64 bit (AMD64)]\n",
      "Version info\n",
      "sys.version_info(major=3, minor=8, micro=8, releaselevel='final', serial=0)\n"
     ]
    }
   ],
   "source": [
    "import sys\n",
    "print(\"Python version\")\n",
    "print(sys.version)\n",
    "print(\"Version info\")\n",
    "print(sys.version_info)"
   ]
  },
  {
   "cell_type": "code",
   "execution_count": 3,
   "id": "a59b6f02",
   "metadata": {},
   "outputs": [
    {
     "name": "stdout",
     "output_type": "stream",
     "text": [
      "Current date and time : \n",
      "2021-10-23  12:44:31:\n"
     ]
    }
   ],
   "source": [
    "import datetime\n",
    "now = datetime.datetime.now()\n",
    "print(\"Current date and time : \")\n",
    "print(now.strftime(\"%Y-%m-%d  %H:%M:%S:\"))"
   ]
  },
  {
   "cell_type": "code",
   "execution_count": 4,
   "id": "6dab503f",
   "metadata": {},
   "outputs": [
    {
     "name": "stdout",
     "output_type": "stream",
     "text": [
      "Input the radius of the circle : 6.5\n",
      "The area of the circle with radius 6.5 is: 132.73228961416876\n"
     ]
    }
   ],
   "source": [
    "from math import pi\n",
    "r= float(input(\"Input the radius of the circle : \"))\n",
    "print(\"The area of the circle with radius \" + str(r) + \" is: \" + str(pi * r**2))"
   ]
  },
  {
   "cell_type": "code",
   "execution_count": 5,
   "id": "b63f5cb6",
   "metadata": {},
   "outputs": [
    {
     "name": "stdout",
     "output_type": "stream",
     "text": [
      "Input your First Name : Syed \n",
      "Input your Last Name : Mubashir\n",
      "Mubashir Syed \n"
     ]
    }
   ],
   "source": [
    "fname = input(\"Input your First Name : \")\n",
    "lname = input(\"Input your Last Name : \")\n",
    "print(lname+\" \"+fname)"
   ]
  },
  {
   "cell_type": "code",
   "execution_count": 7,
   "id": "1d5c17ca",
   "metadata": {},
   "outputs": [
    {
     "name": "stdout",
     "output_type": "stream",
     "text": [
      "Enter First Number : 7\n",
      "Enter Second Number: 9\n",
      "Addition of two numbers are: 16\n"
     ]
    }
   ],
   "source": [
    "num1 = int(input(\"Enter First Number : \"))\n",
    "num2 = input(\"Enter Second Number: \")\n",
    "sum = int(num1) +int(num2)\n",
    "print('Addition of two numbers are: '+format(sum))"
   ]
  },
  {
   "cell_type": "code",
   "execution_count": 9,
   "id": "d4693c90",
   "metadata": {},
   "outputs": [
    {
     "name": "stdout",
     "output_type": "stream",
     "text": [
      "Enter marks of the first subject:89\n",
      "Enter marks of the second subject: 78\n",
      "Enter marks of the third subject: 67\n",
      "Enter marks of the fourth subject: 50\n",
      "Enter marks of the fifth subject: 89\n",
      "Congrulations you achieved B\n"
     ]
    }
   ],
   "source": [
    "sub1=int(input(\"Enter marks of the first subject:\"))\n",
    "sub2=int(input(\"Enter marks of the second subject: \"))\n",
    "sub3=int(input(\"Enter marks of the third subject: \"))\n",
    "sub4=int(input(\"Enter marks of the fourth subject: \"))\n",
    "sub5=int(input(\"Enter marks of the fifth subject: \"))\n",
    "avg=(sub1+sub2+sub3+sub4+sub4)/5\n",
    "if avg >= 80 and avg <= 100:\n",
    "    print(\" Congrulations you achieved A+\")\n",
    "elif avg >= 70 and avg <= 80:\n",
    "    print(\"Congrulations you achieved A\")\n",
    "elif avg >= 60 and avg <= 70:\n",
    "    print(\"Congrulations you achieved B\")\n",
    "elif avg >= 50 and avg <= 60:\n",
    "    print(\"You achieved C\")\n",
    "elif avg >= 40 and avg <= 50:\n",
    "    print(\"You achieved D\")\n",
    "elif avg >= 33 and avg <= 40:\n",
    "    print(\"You achieved E\")\n",
    "elif avg >= 0 and avg <= 33:\n",
    "    print(\"You are FAIL\")\n",
    "else:\n",
    "    print(\"You have given inappropriate %\")"
   ]
  },
  {
   "cell_type": "code",
   "execution_count": 12,
   "id": "c592d3a4",
   "metadata": {},
   "outputs": [
    {
     "name": "stdout",
     "output_type": "stream",
     "text": [
      "Enter a number: 5\n",
      "5 is Odd\n"
     ]
    }
   ],
   "source": [
    "num = int(input(\"Enter a number: \"))\n",
    "if (num % 2) == 0:\n",
    "   print(\"{0} is Even\".format(num))\n",
    "else:\n",
    "   print(\"{0} is Odd\".format(num))"
   ]
  },
  {
   "cell_type": "code",
   "execution_count": 13,
   "id": "2637301d",
   "metadata": {},
   "outputs": [
    {
     "name": "stdout",
     "output_type": "stream",
     "text": [
      "The length of list is:  10\n"
     ]
    }
   ],
   "source": [
    "\n",
    "n = len([10, 20, 30, 40, 50, 60, 70, 80, 90, 100]) \n",
    "print(\"The length of list is: \", n)"
   ]
  },
  {
   "cell_type": "code",
   "execution_count": 14,
   "id": "5a362d16",
   "metadata": {},
   "outputs": [
    {
     "name": "stdout",
     "output_type": "stream",
     "text": [
      "11\n"
     ]
    }
   ],
   "source": [
    "def sum_list(items):\n",
    "    sum_numbers = 0\n",
    "    for x in items:\n",
    "        sum_numbers += x\n",
    "    return sum_numbers\n",
    "print(sum_list([1,2,8]))"
   ]
  },
  {
   "cell_type": "code",
   "execution_count": 15,
   "id": "562aaea2",
   "metadata": {},
   "outputs": [
    {
     "name": "stdout",
     "output_type": "stream",
     "text": [
      "Largest element is: 8000\n"
     ]
    }
   ],
   "source": [
    "list = [10, 20, 4, 8000, 45, 99, 100 ,500 ,600] \n",
    "  \n",
    "print(\"Largest element is:\", max(list))"
   ]
  },
  {
   "cell_type": "code",
   "execution_count": 16,
   "id": "a9054a6b",
   "metadata": {},
   "outputs": [
    {
     "name": "stdout",
     "output_type": "stream",
     "text": [
      "1\n",
      "1\n",
      "2\n",
      "3\n"
     ]
    }
   ],
   "source": [
    "a = [1, 1, 2, 3, 5, 8, 13, 21, 34, 55, 89]\n",
    "\n",
    "for i in a:\n",
    "\n",
    "    if i < 5:\n",
    "\n",
    "        print(i)"
   ]
  },
  {
   "cell_type": "code",
   "execution_count": null,
   "id": "df8ce924",
   "metadata": {},
   "outputs": [],
   "source": []
  }
 ],
 "metadata": {
  "kernelspec": {
   "display_name": "Python 3",
   "language": "python",
   "name": "python3"
  },
  "language_info": {
   "codemirror_mode": {
    "name": "ipython",
    "version": 3
   },
   "file_extension": ".py",
   "mimetype": "text/x-python",
   "name": "python",
   "nbconvert_exporter": "python",
   "pygments_lexer": "ipython3",
   "version": "3.8.8"
  }
 },
 "nbformat": 4,
 "nbformat_minor": 5
}
